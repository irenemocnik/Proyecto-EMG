{
 "cells": [
  {
   "cell_type": "code",
   "execution_count": null,
   "id": "4098631a-c1f7-4e64-be8b-fc6d591f7e74",
   "metadata": {},
   "outputs": [],
   "source": []
  }
 ],
 "metadata": {
  "kernelspec": {
   "display_name": "",
   "name": ""
  },
  "language_info": {
   "name": ""
  }
 },
 "nbformat": 4,
 "nbformat_minor": 5
}
