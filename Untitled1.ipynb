{
 "cells": [
  {
   "cell_type": "markdown",
   "id": "8540e2d0-fdb8-4a62-b3e0-35c56cce14b8",
   "metadata": {},
   "source": [
    "### Procesamiento digital de señales de Electromiograma"
   ]
  },
  {
   "cell_type": "markdown",
   "id": "0a9764b6-a9f9-4fdf-93f8-3a66f833061b",
   "metadata": {},
   "source": [
    "Introducción"
   ]
  },
  {
   "cell_type": "markdown",
   "id": "80af202c-fdc3-4f12-8165-fd6b0da3a6d0",
   "metadata": {},
   "source": [
    "Metodología"
   ]
  },
  {
   "cell_type": "markdown",
   "id": "1a10cf89-98f8-4aa4-a541-bdbff7b1d369",
   "metadata": {},
   "source": [
    "Señales"
   ]
  },
  {
   "cell_type": "markdown",
   "id": "da2eecaa-f0dc-4662-8e3c-4ba1137bc73d",
   "metadata": {},
   "source": [
    "Preprocesamiento"
   ]
  },
  {
   "cell_type": "markdown",
   "id": "fa141c2a-6de8-46ff-bb5f-6bc90b8d45ff",
   "metadata": {},
   "source": [
    "Caracterización temporal"
   ]
  },
  {
   "cell_type": "markdown",
   "id": "64157a23-e668-4767-b7a8-5c8de6292c49",
   "metadata": {},
   "source": [
    "Análisis espectral"
   ]
  },
  {
   "cell_type": "markdown",
   "id": "ca4b3b5c-c116-407e-b851-a5e3387ba339",
   "metadata": {},
   "source": [
    "Conclusiones"
   ]
  },
  {
   "cell_type": "markdown",
   "id": "300c98ba-8c8b-4d8e-8724-d79b17724374",
   "metadata": {},
   "source": [
    "1. Introducción\n",
    "   1.1 El electromiograma\n",
    "   1.2 Importancia del procesamiento\n",
    "   1.3 Objetivos\n",
    "   \n",
    "Explorar diferentes métodos de procesamiento y análisis para comparar señales de electromiografía\n",
    "2. Metodología\n",
    "\n"
   ]
  },
  {
   "cell_type": "markdown",
   "id": "fe41e49c-96b5-464a-82d9-5797a3f817e2",
   "metadata": {},
   "source": [
    "Raez MB, Hussain MS, Mohd-Yasin F. Techniques of EMG signal analysis: detection, processing, classification and applications. Biol Proced Online. 2006;8:11-35. doi: 10.1251/bpo115. Epub 2006 Mar 23. Erratum in: Biol Proced Online. 2006;8:163. doi: 10.1251/bpo124. PMID: 16799694; PMCID: PMC1455479.\n",
    "\n"
   ]
  }
 ],
 "metadata": {
  "kernelspec": {
   "display_name": "Python 3 (ipykernel)",
   "language": "python",
   "name": "python3"
  },
  "language_info": {
   "codemirror_mode": {
    "name": "ipython",
    "version": 3
   },
   "file_extension": ".py",
   "mimetype": "text/x-python",
   "name": "python",
   "nbconvert_exporter": "python",
   "pygments_lexer": "ipython3",
   "version": "3.13.2"
  }
 },
 "nbformat": 4,
 "nbformat_minor": 5
}
